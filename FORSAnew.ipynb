{
 "cells": [
  {
   "cell_type": "code",
   "execution_count": 35,
   "id": "1002a62d",
   "metadata": {},
   "outputs": [],
   "source": [
    "import pandas as pd\n",
    "import numpy as np"
   ]
  },
  {
   "cell_type": "code",
   "execution_count": 36,
   "id": "af0b8dfc",
   "metadata": {},
   "outputs": [],
   "source": [
    "df = pd.read_excel(\"Survey_res.xlsx\",header = None,skiprows =1)"
   ]
  },
  {
   "cell_type": "code",
   "execution_count": 37,
   "id": "e3827ac9",
   "metadata": {},
   "outputs": [
    {
     "data": {
      "text/html": [
       "<div>\n",
       "<style scoped>\n",
       "    .dataframe tbody tr th:only-of-type {\n",
       "        vertical-align: middle;\n",
       "    }\n",
       "\n",
       "    .dataframe tbody tr th {\n",
       "        vertical-align: top;\n",
       "    }\n",
       "\n",
       "    .dataframe thead th {\n",
       "        text-align: right;\n",
       "    }\n",
       "</style>\n",
       "<table border=\"1\" class=\"dataframe\">\n",
       "  <thead>\n",
       "    <tr style=\"text-align: right;\">\n",
       "      <th></th>\n",
       "      <th>0</th>\n",
       "      <th>1</th>\n",
       "      <th>2</th>\n",
       "      <th>3</th>\n",
       "      <th>4</th>\n",
       "      <th>5</th>\n",
       "      <th>6</th>\n",
       "      <th>7</th>\n",
       "      <th>8</th>\n",
       "      <th>9</th>\n",
       "      <th>...</th>\n",
       "      <th>13</th>\n",
       "      <th>14</th>\n",
       "      <th>15</th>\n",
       "      <th>16</th>\n",
       "      <th>17</th>\n",
       "      <th>18</th>\n",
       "      <th>19</th>\n",
       "      <th>20</th>\n",
       "      <th>21</th>\n",
       "      <th>22</th>\n",
       "    </tr>\n",
       "  </thead>\n",
       "  <tbody>\n",
       "    <tr>\n",
       "      <th>0</th>\n",
       "      <td>4</td>\n",
       "      <td>2</td>\n",
       "      <td>3</td>\n",
       "      <td>4</td>\n",
       "      <td>4</td>\n",
       "      <td>4</td>\n",
       "      <td>4</td>\n",
       "      <td>4</td>\n",
       "      <td>2</td>\n",
       "      <td>1</td>\n",
       "      <td>...</td>\n",
       "      <td>2</td>\n",
       "      <td>1</td>\n",
       "      <td>3</td>\n",
       "      <td>4</td>\n",
       "      <td>3</td>\n",
       "      <td>3</td>\n",
       "      <td>1</td>\n",
       "      <td>5</td>\n",
       "      <td>4</td>\n",
       "      <td>5</td>\n",
       "    </tr>\n",
       "    <tr>\n",
       "      <th>1</th>\n",
       "      <td>4</td>\n",
       "      <td>3</td>\n",
       "      <td>3</td>\n",
       "      <td>4</td>\n",
       "      <td>5</td>\n",
       "      <td>2</td>\n",
       "      <td>4</td>\n",
       "      <td>3</td>\n",
       "      <td>3</td>\n",
       "      <td>4</td>\n",
       "      <td>...</td>\n",
       "      <td>4</td>\n",
       "      <td>4</td>\n",
       "      <td>5</td>\n",
       "      <td>4</td>\n",
       "      <td>5</td>\n",
       "      <td>3</td>\n",
       "      <td>2</td>\n",
       "      <td>5</td>\n",
       "      <td>5</td>\n",
       "      <td>5</td>\n",
       "    </tr>\n",
       "    <tr>\n",
       "      <th>2</th>\n",
       "      <td>2</td>\n",
       "      <td>4</td>\n",
       "      <td>2</td>\n",
       "      <td>4</td>\n",
       "      <td>5</td>\n",
       "      <td>3</td>\n",
       "      <td>2</td>\n",
       "      <td>4</td>\n",
       "      <td>2</td>\n",
       "      <td>3</td>\n",
       "      <td>...</td>\n",
       "      <td>5</td>\n",
       "      <td>3</td>\n",
       "      <td>4</td>\n",
       "      <td>5</td>\n",
       "      <td>5</td>\n",
       "      <td>3</td>\n",
       "      <td>3</td>\n",
       "      <td>5</td>\n",
       "      <td>5</td>\n",
       "      <td>5</td>\n",
       "    </tr>\n",
       "    <tr>\n",
       "      <th>3</th>\n",
       "      <td>4</td>\n",
       "      <td>5</td>\n",
       "      <td>4</td>\n",
       "      <td>4</td>\n",
       "      <td>5</td>\n",
       "      <td>3</td>\n",
       "      <td>3</td>\n",
       "      <td>4</td>\n",
       "      <td>4</td>\n",
       "      <td>4</td>\n",
       "      <td>...</td>\n",
       "      <td>4</td>\n",
       "      <td>4</td>\n",
       "      <td>5</td>\n",
       "      <td>4</td>\n",
       "      <td>5</td>\n",
       "      <td>4</td>\n",
       "      <td>3</td>\n",
       "      <td>2</td>\n",
       "      <td>4</td>\n",
       "      <td>4</td>\n",
       "    </tr>\n",
       "    <tr>\n",
       "      <th>4</th>\n",
       "      <td>3</td>\n",
       "      <td>3</td>\n",
       "      <td>3</td>\n",
       "      <td>3</td>\n",
       "      <td>5</td>\n",
       "      <td>3</td>\n",
       "      <td>3</td>\n",
       "      <td>2</td>\n",
       "      <td>3</td>\n",
       "      <td>2</td>\n",
       "      <td>...</td>\n",
       "      <td>3</td>\n",
       "      <td>3</td>\n",
       "      <td>3</td>\n",
       "      <td>3</td>\n",
       "      <td>3</td>\n",
       "      <td>3</td>\n",
       "      <td>2</td>\n",
       "      <td>2</td>\n",
       "      <td>2</td>\n",
       "      <td>2</td>\n",
       "    </tr>\n",
       "    <tr>\n",
       "      <th>5</th>\n",
       "      <td>4</td>\n",
       "      <td>3</td>\n",
       "      <td>3</td>\n",
       "      <td>5</td>\n",
       "      <td>4</td>\n",
       "      <td>3</td>\n",
       "      <td>4</td>\n",
       "      <td>4</td>\n",
       "      <td>4</td>\n",
       "      <td>3</td>\n",
       "      <td>...</td>\n",
       "      <td>4</td>\n",
       "      <td>3</td>\n",
       "      <td>4</td>\n",
       "      <td>4</td>\n",
       "      <td>3</td>\n",
       "      <td>3</td>\n",
       "      <td>2</td>\n",
       "      <td>3</td>\n",
       "      <td>5</td>\n",
       "      <td>3</td>\n",
       "    </tr>\n",
       "    <tr>\n",
       "      <th>6</th>\n",
       "      <td>3</td>\n",
       "      <td>3</td>\n",
       "      <td>4</td>\n",
       "      <td>5</td>\n",
       "      <td>5</td>\n",
       "      <td>2</td>\n",
       "      <td>4</td>\n",
       "      <td>3</td>\n",
       "      <td>3</td>\n",
       "      <td>3</td>\n",
       "      <td>...</td>\n",
       "      <td>4</td>\n",
       "      <td>5</td>\n",
       "      <td>4</td>\n",
       "      <td>4</td>\n",
       "      <td>5</td>\n",
       "      <td>3</td>\n",
       "      <td>2</td>\n",
       "      <td>3</td>\n",
       "      <td>4</td>\n",
       "      <td>2</td>\n",
       "    </tr>\n",
       "    <tr>\n",
       "      <th>7</th>\n",
       "      <td>3</td>\n",
       "      <td>2</td>\n",
       "      <td>4</td>\n",
       "      <td>5</td>\n",
       "      <td>5</td>\n",
       "      <td>2</td>\n",
       "      <td>5</td>\n",
       "      <td>3</td>\n",
       "      <td>4</td>\n",
       "      <td>4</td>\n",
       "      <td>...</td>\n",
       "      <td>4</td>\n",
       "      <td>3</td>\n",
       "      <td>4</td>\n",
       "      <td>4</td>\n",
       "      <td>5</td>\n",
       "      <td>5</td>\n",
       "      <td>3</td>\n",
       "      <td>3</td>\n",
       "      <td>5</td>\n",
       "      <td>5</td>\n",
       "    </tr>\n",
       "    <tr>\n",
       "      <th>8</th>\n",
       "      <td>4</td>\n",
       "      <td>4</td>\n",
       "      <td>4</td>\n",
       "      <td>5</td>\n",
       "      <td>5</td>\n",
       "      <td>4</td>\n",
       "      <td>4</td>\n",
       "      <td>3</td>\n",
       "      <td>3</td>\n",
       "      <td>4</td>\n",
       "      <td>...</td>\n",
       "      <td>3</td>\n",
       "      <td>3</td>\n",
       "      <td>3</td>\n",
       "      <td>3</td>\n",
       "      <td>5</td>\n",
       "      <td>5</td>\n",
       "      <td>2</td>\n",
       "      <td>4</td>\n",
       "      <td>4</td>\n",
       "      <td>4</td>\n",
       "    </tr>\n",
       "    <tr>\n",
       "      <th>9</th>\n",
       "      <td>3</td>\n",
       "      <td>4</td>\n",
       "      <td>3</td>\n",
       "      <td>5</td>\n",
       "      <td>4</td>\n",
       "      <td>2</td>\n",
       "      <td>4</td>\n",
       "      <td>2</td>\n",
       "      <td>3</td>\n",
       "      <td>3</td>\n",
       "      <td>...</td>\n",
       "      <td>5</td>\n",
       "      <td>4</td>\n",
       "      <td>3</td>\n",
       "      <td>4</td>\n",
       "      <td>3</td>\n",
       "      <td>4</td>\n",
       "      <td>4</td>\n",
       "      <td>4</td>\n",
       "      <td>5</td>\n",
       "      <td>2</td>\n",
       "    </tr>\n",
       "    <tr>\n",
       "      <th>10</th>\n",
       "      <td>5</td>\n",
       "      <td>4</td>\n",
       "      <td>5</td>\n",
       "      <td>5</td>\n",
       "      <td>5</td>\n",
       "      <td>4</td>\n",
       "      <td>5</td>\n",
       "      <td>4</td>\n",
       "      <td>4</td>\n",
       "      <td>4</td>\n",
       "      <td>...</td>\n",
       "      <td>4</td>\n",
       "      <td>5</td>\n",
       "      <td>4</td>\n",
       "      <td>4</td>\n",
       "      <td>5</td>\n",
       "      <td>4</td>\n",
       "      <td>5</td>\n",
       "      <td>4</td>\n",
       "      <td>4</td>\n",
       "      <td>4</td>\n",
       "    </tr>\n",
       "    <tr>\n",
       "      <th>11</th>\n",
       "      <td>5</td>\n",
       "      <td>3</td>\n",
       "      <td>1</td>\n",
       "      <td>1</td>\n",
       "      <td>1</td>\n",
       "      <td>1</td>\n",
       "      <td>3</td>\n",
       "      <td>1</td>\n",
       "      <td>1</td>\n",
       "      <td>1</td>\n",
       "      <td>...</td>\n",
       "      <td>1</td>\n",
       "      <td>1</td>\n",
       "      <td>2</td>\n",
       "      <td>4</td>\n",
       "      <td>1</td>\n",
       "      <td>1</td>\n",
       "      <td>1</td>\n",
       "      <td>1</td>\n",
       "      <td>5</td>\n",
       "      <td>3</td>\n",
       "    </tr>\n",
       "    <tr>\n",
       "      <th>12</th>\n",
       "      <td>4</td>\n",
       "      <td>3</td>\n",
       "      <td>4</td>\n",
       "      <td>5</td>\n",
       "      <td>5</td>\n",
       "      <td>2</td>\n",
       "      <td>4</td>\n",
       "      <td>4</td>\n",
       "      <td>3</td>\n",
       "      <td>4</td>\n",
       "      <td>...</td>\n",
       "      <td>4</td>\n",
       "      <td>3</td>\n",
       "      <td>3</td>\n",
       "      <td>4</td>\n",
       "      <td>3</td>\n",
       "      <td>2</td>\n",
       "      <td>2</td>\n",
       "      <td>3</td>\n",
       "      <td>3</td>\n",
       "      <td>3</td>\n",
       "    </tr>\n",
       "    <tr>\n",
       "      <th>13</th>\n",
       "      <td>4</td>\n",
       "      <td>3</td>\n",
       "      <td>4</td>\n",
       "      <td>3</td>\n",
       "      <td>4</td>\n",
       "      <td>3</td>\n",
       "      <td>4</td>\n",
       "      <td>3</td>\n",
       "      <td>4</td>\n",
       "      <td>3</td>\n",
       "      <td>...</td>\n",
       "      <td>4</td>\n",
       "      <td>3</td>\n",
       "      <td>4</td>\n",
       "      <td>3</td>\n",
       "      <td>4</td>\n",
       "      <td>3</td>\n",
       "      <td>4</td>\n",
       "      <td>4</td>\n",
       "      <td>3</td>\n",
       "      <td>4</td>\n",
       "    </tr>\n",
       "    <tr>\n",
       "      <th>14</th>\n",
       "      <td>5</td>\n",
       "      <td>5</td>\n",
       "      <td>5</td>\n",
       "      <td>5</td>\n",
       "      <td>5</td>\n",
       "      <td>4</td>\n",
       "      <td>5</td>\n",
       "      <td>4</td>\n",
       "      <td>2</td>\n",
       "      <td>2</td>\n",
       "      <td>...</td>\n",
       "      <td>3</td>\n",
       "      <td>3</td>\n",
       "      <td>2</td>\n",
       "      <td>2</td>\n",
       "      <td>3</td>\n",
       "      <td>2</td>\n",
       "      <td>3</td>\n",
       "      <td>3</td>\n",
       "      <td>4</td>\n",
       "      <td>5</td>\n",
       "    </tr>\n",
       "    <tr>\n",
       "      <th>15</th>\n",
       "      <td>3</td>\n",
       "      <td>4</td>\n",
       "      <td>3</td>\n",
       "      <td>4</td>\n",
       "      <td>3</td>\n",
       "      <td>4</td>\n",
       "      <td>3</td>\n",
       "      <td>4</td>\n",
       "      <td>3</td>\n",
       "      <td>4</td>\n",
       "      <td>...</td>\n",
       "      <td>4</td>\n",
       "      <td>3</td>\n",
       "      <td>4</td>\n",
       "      <td>3</td>\n",
       "      <td>4</td>\n",
       "      <td>3</td>\n",
       "      <td>4</td>\n",
       "      <td>3</td>\n",
       "      <td>4</td>\n",
       "      <td>3</td>\n",
       "    </tr>\n",
       "  </tbody>\n",
       "</table>\n",
       "<p>16 rows × 23 columns</p>\n",
       "</div>"
      ],
      "text/plain": [
       "    0   1   2   3   4   5   6   7   8   9   ...  13  14  15  16  17  18  19  \\\n",
       "0    4   2   3   4   4   4   4   4   2   1  ...   2   1   3   4   3   3   1   \n",
       "1    4   3   3   4   5   2   4   3   3   4  ...   4   4   5   4   5   3   2   \n",
       "2    2   4   2   4   5   3   2   4   2   3  ...   5   3   4   5   5   3   3   \n",
       "3    4   5   4   4   5   3   3   4   4   4  ...   4   4   5   4   5   4   3   \n",
       "4    3   3   3   3   5   3   3   2   3   2  ...   3   3   3   3   3   3   2   \n",
       "5    4   3   3   5   4   3   4   4   4   3  ...   4   3   4   4   3   3   2   \n",
       "6    3   3   4   5   5   2   4   3   3   3  ...   4   5   4   4   5   3   2   \n",
       "7    3   2   4   5   5   2   5   3   4   4  ...   4   3   4   4   5   5   3   \n",
       "8    4   4   4   5   5   4   4   3   3   4  ...   3   3   3   3   5   5   2   \n",
       "9    3   4   3   5   4   2   4   2   3   3  ...   5   4   3   4   3   4   4   \n",
       "10   5   4   5   5   5   4   5   4   4   4  ...   4   5   4   4   5   4   5   \n",
       "11   5   3   1   1   1   1   3   1   1   1  ...   1   1   2   4   1   1   1   \n",
       "12   4   3   4   5   5   2   4   4   3   4  ...   4   3   3   4   3   2   2   \n",
       "13   4   3   4   3   4   3   4   3   4   3  ...   4   3   4   3   4   3   4   \n",
       "14   5   5   5   5   5   4   5   4   2   2  ...   3   3   2   2   3   2   3   \n",
       "15   3   4   3   4   3   4   3   4   3   4  ...   4   3   4   3   4   3   4   \n",
       "\n",
       "    20  21  22  \n",
       "0    5   4   5  \n",
       "1    5   5   5  \n",
       "2    5   5   5  \n",
       "3    2   4   4  \n",
       "4    2   2   2  \n",
       "5    3   5   3  \n",
       "6    3   4   2  \n",
       "7    3   5   5  \n",
       "8    4   4   4  \n",
       "9    4   5   2  \n",
       "10   4   4   4  \n",
       "11   1   5   3  \n",
       "12   3   3   3  \n",
       "13   4   3   4  \n",
       "14   3   4   5  \n",
       "15   3   4   3  \n",
       "\n",
       "[16 rows x 23 columns]"
      ]
     },
     "execution_count": 37,
     "metadata": {},
     "output_type": "execute_result"
    }
   ],
   "source": [
    "df"
   ]
  },
  {
   "cell_type": "code",
   "execution_count": 38,
   "id": "63c21069",
   "metadata": {},
   "outputs": [],
   "source": [
    "df.columns =[\"b\",\"c\",\"d\",\"e\",\"f\",\"g\",\"h\",\"i\",\"j\",\"k\",\"l\",\"m\",\"n\",\"o\",\"p\",\"q\",\"r\",\"s\",\"t\",\"u\",\"v\",\"w\",\"x\"]"
   ]
  },
  {
   "cell_type": "code",
   "execution_count": 39,
   "id": "26b828d1",
   "metadata": {},
   "outputs": [],
   "source": [
    "\n",
    "df[\"b\"] = df[\"b\"].astype(int)\n",
    "df[\"b\"] = df[\"b\"].astype(str)\n"
   ]
  },
  {
   "cell_type": "code",
   "execution_count": 40,
   "id": "163b1e85",
   "metadata": {},
   "outputs": [],
   "source": [
    "df['b'] = df['b'].replace({'1' : '0.0,0.0,0.2','2' : '0.0,0.2,0.4','3' : '0.2,0.4,0.6','4' : '0.4,0.6,0.8','5' : '0.6,0.8,1.0'}, regex=True)\n",
    "# df['b'] = df['b'].replace({'2' : '0.0,0.2,0.4'}, regex=True)\n",
    "# df['b'] = df['b'].replace({'3' : '0.2,0.4,0.6'}, regex=True)\n",
    "# df['b'] = df['b'].replace({'4' : '0.4,0.6,0.8'}, regex=True)\n",
    "# df['b'] = df['b'].replace({'5' : '0.6,0.8,1.0'}, regex=True)"
   ]
  },
  {
   "cell_type": "code",
   "execution_count": 41,
   "id": "d49cc55d",
   "metadata": {},
   "outputs": [
    {
     "name": "stderr",
     "output_type": "stream",
     "text": [
      "C:\\Users\\acer\\AppData\\Local\\Temp\\ipykernel_8376\\972599373.py:2: ParserWarning: Falling back to the 'python' engine because the 'c' engine does not support regex separators (separators > 1 char and different from '\\s+' are interpreted as regex); you can avoid this warning by specifying engine='python'.\n",
      "  dv = pd.read_csv(\"bubble\",sep=\"\\,\",header = None)\n"
     ]
    }
   ],
   "source": [
    "df[\"b\"].to_csv(\"bubble\",index= None,header = None)\n",
    "dv = pd.read_csv(\"bubble\",sep=\"\\,\",header = None)"
   ]
  },
  {
   "cell_type": "code",
   "execution_count": 42,
   "id": "dd97fc64",
   "metadata": {},
   "outputs": [
    {
     "data": {
      "text/html": [
       "<div>\n",
       "<style scoped>\n",
       "    .dataframe tbody tr th:only-of-type {\n",
       "        vertical-align: middle;\n",
       "    }\n",
       "\n",
       "    .dataframe tbody tr th {\n",
       "        vertical-align: top;\n",
       "    }\n",
       "\n",
       "    .dataframe thead th {\n",
       "        text-align: right;\n",
       "    }\n",
       "</style>\n",
       "<table border=\"1\" class=\"dataframe\">\n",
       "  <thead>\n",
       "    <tr style=\"text-align: right;\">\n",
       "      <th></th>\n",
       "      <th>0</th>\n",
       "      <th>1</th>\n",
       "      <th>2</th>\n",
       "    </tr>\n",
       "  </thead>\n",
       "  <tbody>\n",
       "    <tr>\n",
       "      <th>0</th>\n",
       "      <td>\"0.4</td>\n",
       "      <td>0.6</td>\n",
       "      <td>0.8\"</td>\n",
       "    </tr>\n",
       "    <tr>\n",
       "      <th>1</th>\n",
       "      <td>\"0.4</td>\n",
       "      <td>0.6</td>\n",
       "      <td>0.8\"</td>\n",
       "    </tr>\n",
       "    <tr>\n",
       "      <th>2</th>\n",
       "      <td>\"0.0</td>\n",
       "      <td>0.2</td>\n",
       "      <td>0.4\"</td>\n",
       "    </tr>\n",
       "    <tr>\n",
       "      <th>3</th>\n",
       "      <td>\"0.4</td>\n",
       "      <td>0.6</td>\n",
       "      <td>0.8\"</td>\n",
       "    </tr>\n",
       "    <tr>\n",
       "      <th>4</th>\n",
       "      <td>\"0.2</td>\n",
       "      <td>0.4</td>\n",
       "      <td>0.6\"</td>\n",
       "    </tr>\n",
       "    <tr>\n",
       "      <th>5</th>\n",
       "      <td>\"0.4</td>\n",
       "      <td>0.6</td>\n",
       "      <td>0.8\"</td>\n",
       "    </tr>\n",
       "    <tr>\n",
       "      <th>6</th>\n",
       "      <td>\"0.2</td>\n",
       "      <td>0.4</td>\n",
       "      <td>0.6\"</td>\n",
       "    </tr>\n",
       "    <tr>\n",
       "      <th>7</th>\n",
       "      <td>\"0.2</td>\n",
       "      <td>0.4</td>\n",
       "      <td>0.6\"</td>\n",
       "    </tr>\n",
       "    <tr>\n",
       "      <th>8</th>\n",
       "      <td>\"0.4</td>\n",
       "      <td>0.6</td>\n",
       "      <td>0.8\"</td>\n",
       "    </tr>\n",
       "    <tr>\n",
       "      <th>9</th>\n",
       "      <td>\"0.2</td>\n",
       "      <td>0.4</td>\n",
       "      <td>0.6\"</td>\n",
       "    </tr>\n",
       "    <tr>\n",
       "      <th>10</th>\n",
       "      <td>\"0.6</td>\n",
       "      <td>0.8</td>\n",
       "      <td>1.0\"</td>\n",
       "    </tr>\n",
       "    <tr>\n",
       "      <th>11</th>\n",
       "      <td>\"0.6</td>\n",
       "      <td>0.8</td>\n",
       "      <td>1.0\"</td>\n",
       "    </tr>\n",
       "    <tr>\n",
       "      <th>12</th>\n",
       "      <td>\"0.4</td>\n",
       "      <td>0.6</td>\n",
       "      <td>0.8\"</td>\n",
       "    </tr>\n",
       "    <tr>\n",
       "      <th>13</th>\n",
       "      <td>\"0.4</td>\n",
       "      <td>0.6</td>\n",
       "      <td>0.8\"</td>\n",
       "    </tr>\n",
       "    <tr>\n",
       "      <th>14</th>\n",
       "      <td>\"0.6</td>\n",
       "      <td>0.8</td>\n",
       "      <td>1.0\"</td>\n",
       "    </tr>\n",
       "    <tr>\n",
       "      <th>15</th>\n",
       "      <td>\"0.2</td>\n",
       "      <td>0.4</td>\n",
       "      <td>0.6\"</td>\n",
       "    </tr>\n",
       "  </tbody>\n",
       "</table>\n",
       "</div>"
      ],
      "text/plain": [
       "       0    1     2\n",
       "0   \"0.4  0.6  0.8\"\n",
       "1   \"0.4  0.6  0.8\"\n",
       "2   \"0.0  0.2  0.4\"\n",
       "3   \"0.4  0.6  0.8\"\n",
       "4   \"0.2  0.4  0.6\"\n",
       "5   \"0.4  0.6  0.8\"\n",
       "6   \"0.2  0.4  0.6\"\n",
       "7   \"0.2  0.4  0.6\"\n",
       "8   \"0.4  0.6  0.8\"\n",
       "9   \"0.2  0.4  0.6\"\n",
       "10  \"0.6  0.8  1.0\"\n",
       "11  \"0.6  0.8  1.0\"\n",
       "12  \"0.4  0.6  0.8\"\n",
       "13  \"0.4  0.6  0.8\"\n",
       "14  \"0.6  0.8  1.0\"\n",
       "15  \"0.2  0.4  0.6\""
      ]
     },
     "execution_count": 42,
     "metadata": {},
     "output_type": "execute_result"
    }
   ],
   "source": [
    "dv"
   ]
  },
  {
   "cell_type": "code",
   "execution_count": 43,
   "id": "4d88762e",
   "metadata": {},
   "outputs": [
    {
     "name": "stdout",
     "output_type": "stream",
     "text": [
      "0.35000000000000003 0.55 0.75\n"
     ]
    },
    {
     "name": "stderr",
     "output_type": "stream",
     "text": [
      "C:\\Users\\acer\\AppData\\Local\\Temp\\ipykernel_8376\\2618339252.py:2: ParserWarning: Falling back to the 'python' engine because the 'c' engine does not support regex separators (separators > 1 char and different from '\\s+' are interpreted as regex); you can avoid this warning by specifying engine='python'.\n",
      "  dv = pd.read_csv(\"bubble\",sep=\"\\,\",header = None)\n"
     ]
    },
    {
     "data": {
      "text/plain": [
       "0.1375"
      ]
     },
     "execution_count": 43,
     "metadata": {},
     "output_type": "execute_result"
    }
   ],
   "source": [
    "df[\"b\"].to_csv(\"bubble\",index= None,header = None)\n",
    "dv = pd.read_csv(\"bubble\",sep=\"\\,\",header = None)\n",
    "dv[0] = dv[0][:].str[1:].astype(float)\n",
    "dv[1] = dv[1]\n",
    "dv[2] = dv[2][:].str[:3].astype(float)\n",
    "n0b = np.mean(dv[0])\n",
    "n1b = np.mean(dv[1])\n",
    "n2b = np.mean(dv[2])\n",
    "d = np.sqrt(((dv[0]-n0b)**2+(dv[1]-n1b)**2+(dv[2]-n2b)**2)/3)\n",
    "print(n0b,n1b,n2b)\n",
    "np.mean(d)"
   ]
  },
  {
   "cell_type": "code",
   "execution_count": 44,
   "id": "dae0f4ff",
   "metadata": {},
   "outputs": [],
   "source": [
    "#dv = pd.read_csv(\"bubble\",sep=\"\\,\",header = None)\n",
    "n0b = np.mean(dv[0])\n",
    "n1b = np.mean(dv[1])\n",
    "n2b = np.mean(dv[2])"
   ]
  },
  {
   "cell_type": "code",
   "execution_count": 45,
   "id": "26ce95af",
   "metadata": {},
   "outputs": [],
   "source": [
    "d = np.sqrt(((dv[0]-n0b)**2+(dv[1]-n1b)**2+(dv[2]-n2b)**2)/3)"
   ]
  },
  {
   "cell_type": "code",
   "execution_count": 46,
   "id": "711c51f5",
   "metadata": {},
   "outputs": [
    {
     "data": {
      "text/plain": [
       "0.1375"
      ]
     },
     "execution_count": 46,
     "metadata": {},
     "output_type": "execute_result"
    }
   ],
   "source": [
    "np.mean(d)"
   ]
  },
  {
   "cell_type": "code",
   "execution_count": 47,
   "id": "7a338433",
   "metadata": {},
   "outputs": [
    {
     "data": {
      "text/plain": [
       "0     2\n",
       "1     3\n",
       "2     4\n",
       "3     5\n",
       "4     3\n",
       "5     3\n",
       "6     3\n",
       "7     2\n",
       "8     4\n",
       "9     4\n",
       "10    4\n",
       "11    3\n",
       "12    3\n",
       "13    3\n",
       "14    5\n",
       "15    4\n",
       "Name: c, dtype: int64"
      ]
     },
     "execution_count": 47,
     "metadata": {},
     "output_type": "execute_result"
    }
   ],
   "source": [
    "df[\"c\"]"
   ]
  },
  {
   "cell_type": "code",
   "execution_count": 48,
   "id": "34863437",
   "metadata": {},
   "outputs": [
    {
     "name": "stdout",
     "output_type": "stream",
     "text": [
      "0.2875 0.48750000000000004 0.6875\n"
     ]
    },
    {
     "name": "stderr",
     "output_type": "stream",
     "text": [
      "C:\\Users\\acer\\AppData\\Local\\Temp\\ipykernel_8376\\3675317630.py:6: ParserWarning: Falling back to the 'python' engine because the 'c' engine does not support regex separators (separators > 1 char and different from '\\s+' are interpreted as regex); you can avoid this warning by specifying engine='python'.\n",
      "  dv = pd.read_csv(\"bubble\",sep=\"\\,\",header = None)\n"
     ]
    },
    {
     "data": {
      "text/plain": [
       "0.1484375"
      ]
     },
     "execution_count": 48,
     "metadata": {},
     "output_type": "execute_result"
    }
   ],
   "source": [
    "\n",
    "\n",
    "\n",
    "df[\"c\"] = df[\"c\"].astype(int)\n",
    "df[\"c\"] = df[\"c\"].astype(str)\n",
    "df['c'] = df['c'].replace({'1' : '0.0,0.0,0.2','2' : '0.0,0.2,0.4','3' : '0.2,0.4,0.6','4' : '0.4,0.6,0.8','5' : '0.6,0.8,1.0'}, regex=True)\n",
    "\n",
    "df[\"c\"].to_csv(\"bubble\",index= None,header = None)\n",
    "dv = pd.read_csv(\"bubble\",sep=\"\\,\",header = None)\n",
    "dv[0] = dv[0][:].str[1:].astype(float)\n",
    "dv[1] = dv[1]\n",
    "dv[2] = dv[2][:].str[:3].astype(float)\n",
    "n0b = np.mean(dv[0])\n",
    "n1b = np.mean(dv[1])\n",
    "n2b = np.mean(dv[2])\n",
    "print(n0b,n1b,n2b)\n",
    "d = np.sqrt(((dv[0]-n0b)**2+(dv[1]-n1b)**2+(dv[2]-n2b)**2)/3)\n",
    "np.mean(d)"
   ]
  },
  {
   "cell_type": "code",
   "execution_count": 49,
   "id": "35625538",
   "metadata": {},
   "outputs": [
    {
     "name": "stdout",
     "output_type": "stream",
     "text": [
      "0.30000000000000004 0.48750000000000004 0.6875\n"
     ]
    },
    {
     "name": "stderr",
     "output_type": "stream",
     "text": [
      "C:\\Users\\acer\\AppData\\Local\\Temp\\ipykernel_8376\\2044629060.py:6: ParserWarning: Falling back to the 'python' engine because the 'c' engine does not support regex separators (separators > 1 char and different from '\\s+' are interpreted as regex); you can avoid this warning by specifying engine='python'.\n",
      "  dv = pd.read_csv(\"bubble\",sep=\"\\,\",header = None)\n"
     ]
    },
    {
     "data": {
      "text/plain": [
       "0.15904345985611093"
      ]
     },
     "execution_count": 49,
     "metadata": {},
     "output_type": "execute_result"
    }
   ],
   "source": [
    "\n",
    "\n",
    "\n",
    "df[\"d\"] = df[\"d\"].astype(int)\n",
    "df[\"d\"] = df[\"d\"].astype(str)\n",
    "df['d'] = df['d'].replace({'1' : '0.0,0.0,0.2','2' : '0.0,0.2,0.4','3' : '0.2,0.4,0.6','4' : '0.4,0.6,0.8','5' : '0.6,0.8,1.0'}, regex=True)\n",
    "\n",
    "df[\"d\"].to_csv(\"bubble\",index= None,header = None)\n",
    "dv = pd.read_csv(\"bubble\",sep=\"\\,\",header = None)\n",
    "dv[0] = dv[0][:].str[1:].astype(float)\n",
    "dv[1] = dv[1]\n",
    "dv[2] = dv[2][:].str[:3].astype(float)\n",
    "n0b = np.mean(dv[0])\n",
    "n1b = np.mean(dv[1])\n",
    "n2b = np.mean(dv[2])\n",
    "print(n0b,n1b,n2b)\n",
    "d = np.sqrt(((dv[0]-n0b)**2+(dv[1]-n1b)**2+(dv[2]-n2b)**2)/3)\n",
    "np.mean(d)"
   ]
  },
  {
   "cell_type": "code",
   "execution_count": 50,
   "id": "e6cc6674",
   "metadata": {},
   "outputs": [
    {
     "name": "stdout",
     "output_type": "stream",
     "text": [
      "0.45 0.6375 0.8375\n"
     ]
    },
    {
     "name": "stderr",
     "output_type": "stream",
     "text": [
      "C:\\Users\\acer\\AppData\\Local\\Temp\\ipykernel_8376\\3923848904.py:6: ParserWarning: Falling back to the 'python' engine because the 'c' engine does not support regex separators (separators > 1 char and different from '\\s+' are interpreted as regex); you can avoid this warning by specifying engine='python'.\n",
      "  dv = pd.read_csv(\"bubble\",sep=\"\\,\",header = None)\n"
     ]
    },
    {
     "data": {
      "text/plain": [
       "0.1589487945663121"
      ]
     },
     "execution_count": 50,
     "metadata": {},
     "output_type": "execute_result"
    }
   ],
   "source": [
    "df[\"e\"] = df[\"e\"].astype(int)\n",
    "df[\"e\"] = df[\"e\"].astype(str)\n",
    "df['e'] = df['e'].replace({'1' : '0.0,0.0,0.2','2' : '0.0,0.2,0.4','3' : '0.2,0.4,0.6','4' : '0.4,0.6,0.8','5' : '0.6,0.8,1.0'}, regex=True)\n",
    "\n",
    "df[\"e\"].to_csv(\"bubble\",index= None,header = None)\n",
    "dv = pd.read_csv(\"bubble\",sep=\"\\,\",header = None)\n",
    "dv[0] = dv[0][:].str[1:].astype(float)\n",
    "dv[1] = dv[1]\n",
    "dv[2] = dv[2][:].str[:3].astype(float)\n",
    "n0b = np.mean(dv[0])\n",
    "n1b = np.mean(dv[1])\n",
    "n2b = np.mean(dv[2])\n",
    "print(n0b,n1b,n2b)\n",
    "d = np.sqrt(((dv[0]-n0b)**2+(dv[1]-n1b)**2+(dv[2]-n2b)**2)/3)\n",
    "np.mean(d)"
   ]
  },
  {
   "cell_type": "code",
   "execution_count": null,
   "id": "2f2634f0",
   "metadata": {},
   "outputs": [],
   "source": []
  },
  {
   "cell_type": "code",
   "execution_count": 51,
   "id": "de855529",
   "metadata": {},
   "outputs": [
    {
     "name": "stdout",
     "output_type": "stream",
     "text": [
      "0.4875 0.675 0.875\n"
     ]
    },
    {
     "name": "stderr",
     "output_type": "stream",
     "text": [
      "C:\\Users\\acer\\AppData\\Local\\Temp\\ipykernel_8376\\4030587807.py:6: ParserWarning: Falling back to the 'python' engine because the 'c' engine does not support regex separators (separators > 1 char and different from '\\s+' are interpreted as regex); you can avoid this warning by specifying engine='python'.\n",
      "  dv = pd.read_csv(\"bubble\",sep=\"\\,\",header = None)\n"
     ]
    },
    {
     "data": {
      "text/plain": [
       "0.15158659052007678"
      ]
     },
     "execution_count": 51,
     "metadata": {},
     "output_type": "execute_result"
    }
   ],
   "source": [
    "\n",
    "\n",
    "\n",
    "df[\"f\"] = df[\"f\"].astype(int)\n",
    "df[\"f\"] = df[\"f\"].astype(str)\n",
    "df['f'] = df['f'].replace({'1' : '0.0,0.0,0.2','2' : '0.0,0.2,0.4','3' : '0.2,0.4,0.6','4' : '0.4,0.6,0.8','5' : '0.6,0.8,1.0'}, regex=True)\n",
    "\n",
    "df[\"f\"].to_csv(\"bubble\",index= None,header = None)\n",
    "dv = pd.read_csv(\"bubble\",sep=\"\\,\",header = None)\n",
    "dv[0] = dv[0][:].str[1:].astype(float)\n",
    "dv[1] = dv[1]\n",
    "dv[2] = dv[2][:].str[:3].astype(float)\n",
    "n0b = np.mean(dv[0])\n",
    "n1b = np.mean(dv[1])\n",
    "n2b = np.mean(dv[2])\n",
    "print(n0b,n1b,n2b)\n",
    "d = np.sqrt(((dv[0]-n0b)**2+(dv[1]-n1b)**2+(dv[2]-n2b)**2)/3)\n",
    "np.mean(d)"
   ]
  },
  {
   "cell_type": "code",
   "execution_count": 52,
   "id": "a92196c7",
   "metadata": {},
   "outputs": [
    {
     "name": "stdout",
     "output_type": "stream",
     "text": [
      "0.1875 0.375 0.5750000000000001\n"
     ]
    },
    {
     "name": "stderr",
     "output_type": "stream",
     "text": [
      "C:\\Users\\acer\\AppData\\Local\\Temp\\ipykernel_8376\\363228355.py:6: ParserWarning: Falling back to the 'python' engine because the 'c' engine does not support regex separators (separators > 1 char and different from '\\s+' are interpreted as regex); you can avoid this warning by specifying engine='python'.\n",
      "  dv = pd.read_csv(\"bubble\",sep=\"\\,\",header = None)\n"
     ]
    },
    {
     "data": {
      "text/plain": [
       "0.15211812993056079"
      ]
     },
     "execution_count": 52,
     "metadata": {},
     "output_type": "execute_result"
    }
   ],
   "source": [
    "df[\"g\"] = df[\"g\"].astype(int)\n",
    "df[\"g\"] = df[\"g\"].astype(str)\n",
    "df['g'] = df['g'].replace({'1' : '0.0,0.0,0.2','2' : '0.0,0.2,0.4','3' : '0.2,0.4,0.6','4' : '0.4,0.6,0.8','5' : '0.6,0.8,1.0'}, regex=True)\n",
    "\n",
    "df[\"g\"].to_csv(\"bubble\",index= None,header = None)\n",
    "dv = pd.read_csv(\"bubble\",sep=\"\\,\",header = None)\n",
    "dv[0] = dv[0][:].str[1:].astype(float)\n",
    "dv[1] = dv[1]\n",
    "dv[2] = dv[2][:].str[:3].astype(float)\n",
    "n0b = np.mean(dv[0])\n",
    "n1b = np.mean(dv[1])\n",
    "n2b = np.mean(dv[2])\n",
    "print(n0b,n1b,n2b)\n",
    "d = np.sqrt(((dv[0]-n0b)**2+(dv[1]-n1b)**2+(dv[2]-n2b)**2)/3)\n",
    "np.mean(d)"
   ]
  },
  {
   "cell_type": "code",
   "execution_count": 53,
   "id": "ac3226cb",
   "metadata": {},
   "outputs": [
    {
     "name": "stdout",
     "output_type": "stream",
     "text": [
      "0.36250000000000004 0.5625 0.7625\n"
     ]
    },
    {
     "name": "stderr",
     "output_type": "stream",
     "text": [
      "C:\\Users\\acer\\AppData\\Local\\Temp\\ipykernel_8376\\3811642302.py:6: ParserWarning: Falling back to the 'python' engine because the 'c' engine does not support regex separators (separators > 1 char and different from '\\s+' are interpreted as regex); you can avoid this warning by specifying engine='python'.\n",
      "  dv = pd.read_csv(\"bubble\",sep=\"\\,\",header = None)\n"
     ]
    },
    {
     "data": {
      "text/plain": [
       "0.1265625"
      ]
     },
     "execution_count": 53,
     "metadata": {},
     "output_type": "execute_result"
    }
   ],
   "source": [
    "df[\"h\"] = df[\"h\"].astype(int)\n",
    "df[\"h\"] = df[\"h\"].astype(str)\n",
    "df['h'] = df['h'].replace({'1' : '0.0,0.0,0.2','2' : '0.0,0.2,0.4','3' : '0.2,0.4,0.6','4' : '0.4,0.6,0.8','5' : '0.6,0.8,1.0'}, regex=True)\n",
    "\n",
    "df[\"h\"].to_csv(\"bubble\",index= None,header = None)\n",
    "dv = pd.read_csv(\"bubble\",sep=\"\\,\",header = None)\n",
    "dv[0] = dv[0][:].str[1:].astype(float)\n",
    "dv[1] = dv[1]\n",
    "dv[2] = dv[2][:].str[:3].astype(float)\n",
    "n0b = np.mean(dv[0])\n",
    "n1b = np.mean(dv[1])\n",
    "n2b = np.mean(dv[2])\n",
    "print(n0b,n1b,n2b)\n",
    "d = np.sqrt(((dv[0]-n0b)**2+(dv[1]-n1b)**2+(dv[2]-n2b)**2)/3)\n",
    "np.mean(d)"
   ]
  },
  {
   "cell_type": "code",
   "execution_count": 54,
   "id": "8359e769",
   "metadata": {},
   "outputs": [
    {
     "name": "stdout",
     "output_type": "stream",
     "text": [
      "0.2625 0.44999999999999996 0.65\n"
     ]
    },
    {
     "name": "stderr",
     "output_type": "stream",
     "text": [
      "C:\\Users\\acer\\AppData\\Local\\Temp\\ipykernel_8376\\1227632559.py:6: ParserWarning: Falling back to the 'python' engine because the 'c' engine does not support regex separators (separators > 1 char and different from '\\s+' are interpreted as regex); you can avoid this warning by specifying engine='python'.\n",
      "  dv = pd.read_csv(\"bubble\",sep=\"\\,\",header = None)\n"
     ]
    },
    {
     "data": {
      "text/plain": [
       "0.14662328734832925"
      ]
     },
     "execution_count": 54,
     "metadata": {},
     "output_type": "execute_result"
    }
   ],
   "source": [
    "df[\"i\"] = df[\"i\"].astype(int)\n",
    "df[\"i\"] = df[\"i\"].astype(str)\n",
    "df['i'] = df['i'].replace({'1' : '0.0,0.0,0.2','2' : '0.0,0.2,0.4','3' : '0.2,0.4,0.6','4' : '0.4,0.6,0.8','5' : '0.6,0.8,1.0'}, regex=True)\n",
    "\n",
    "df[\"i\"].to_csv(\"bubble\",index= None,header = None)\n",
    "dv = pd.read_csv(\"bubble\",sep=\"\\,\",header = None)\n",
    "dv[0] = dv[0][:].str[1:].astype(float)\n",
    "dv[1] = dv[1]\n",
    "dv[2] = dv[2][:].str[:3].astype(float)\n",
    "n0b = np.mean(dv[0])\n",
    "n1b = np.mean(dv[1])\n",
    "n2b = np.mean(dv[2])\n",
    "print(n0b,n1b,n2b)\n",
    "d = np.sqrt(((dv[0]-n0b)**2+(dv[1]-n1b)**2+(dv[2]-n2b)**2)/3)\n",
    "np.mean(d)"
   ]
  },
  {
   "cell_type": "code",
   "execution_count": 55,
   "id": "137c6e0e",
   "metadata": {},
   "outputs": [
    {
     "name": "stdout",
     "output_type": "stream",
     "text": [
      "0.21250000000000002 0.4 0.6\n"
     ]
    },
    {
     "name": "stderr",
     "output_type": "stream",
     "text": [
      "C:\\Users\\acer\\AppData\\Local\\Temp\\ipykernel_8376\\1623450282.py:6: ParserWarning: Falling back to the 'python' engine because the 'c' engine does not support regex separators (separators > 1 char and different from '\\s+' are interpreted as regex); you can avoid this warning by specifying engine='python'.\n",
      "  dv = pd.read_csv(\"bubble\",sep=\"\\,\",header = None)\n"
     ]
    },
    {
     "data": {
      "text/plain": [
       "0.1244853231068198"
      ]
     },
     "execution_count": 55,
     "metadata": {},
     "output_type": "execute_result"
    }
   ],
   "source": [
    "df[\"j\"] = df[\"j\"].astype(int)\n",
    "df[\"j\"] = df[\"j\"].astype(str)\n",
    "df['j'] = df['j'].replace({'1' : '0.0,0.0,0.2','2' : '0.0,0.2,0.4','3' : '0.2,0.4,0.6','4' : '0.4,0.6,0.8','5' : '0.6,0.8,1.0'}, regex=True)\n",
    "\n",
    "df[\"j\"].to_csv(\"bubble\",index= None,header = None)\n",
    "dv = pd.read_csv(\"bubble\",sep=\"\\,\",header = None)\n",
    "dv[0] = dv[0][:].str[1:].astype(float)\n",
    "dv[1] = dv[1]\n",
    "dv[2] = dv[2][:].str[:3].astype(float)\n",
    "n0b = np.mean(dv[0])\n",
    "n1b = np.mean(dv[1])\n",
    "n2b = np.mean(dv[2])\n",
    "print(n0b,n1b,n2b)\n",
    "d = np.sqrt(((dv[0]-n0b)**2+(dv[1]-n1b)**2+(dv[2]-n2b)**2)/3)\n",
    "np.mean(d)"
   ]
  },
  {
   "cell_type": "code",
   "execution_count": 56,
   "id": "30ff72ea",
   "metadata": {},
   "outputs": [
    {
     "data": {
      "text/plain": [
       "0     1\n",
       "1     4\n",
       "2     3\n",
       "3     4\n",
       "4     2\n",
       "5     3\n",
       "6     3\n",
       "7     4\n",
       "8     4\n",
       "9     3\n",
       "10    4\n",
       "11    1\n",
       "12    4\n",
       "13    3\n",
       "14    2\n",
       "15    4\n",
       "Name: k, dtype: int64"
      ]
     },
     "execution_count": 56,
     "metadata": {},
     "output_type": "execute_result"
    }
   ],
   "source": [
    "df[\"k\"]"
   ]
  },
  {
   "cell_type": "code",
   "execution_count": 57,
   "id": "129d992e",
   "metadata": {},
   "outputs": [
    {
     "name": "stdout",
     "output_type": "stream",
     "text": [
      "0.2375 0.41250000000000003 0.6125\n"
     ]
    },
    {
     "name": "stderr",
     "output_type": "stream",
     "text": [
      "C:\\Users\\acer\\AppData\\Local\\Temp\\ipykernel_8376\\4170805521.py:6: ParserWarning: Falling back to the 'python' engine because the 'c' engine does not support regex separators (separators > 1 char and different from '\\s+' are interpreted as regex); you can avoid this warning by specifying engine='python'.\n",
      "  dv = pd.read_csv(\"bubble\",sep=\"\\,\",header = None)\n"
     ]
    },
    {
     "data": {
      "text/plain": [
       "0.15913410454934823"
      ]
     },
     "execution_count": 57,
     "metadata": {},
     "output_type": "execute_result"
    }
   ],
   "source": [
    "df[\"k\"] = df[\"k\"].astype(int)\n",
    "df[\"k\"] = df[\"k\"].astype(str)\n",
    "df['k'] = df['k'].replace({'1' : '0.0,0.0,0.2','2' : '0.0,0.2,0.4','3' : '0.2,0.4,0.6','4' : '0.4,0.6,0.8','5' : '0.6,0.8,1.0'}, regex=True)\n",
    "\n",
    "df[\"k\"].to_csv(\"bubble\",index= None,header = None)\n",
    "dv = pd.read_csv(\"bubble\",sep=\"\\,\",header = None)\n",
    "dv[0] = dv[0][:].str[1:].astype(float)\n",
    "dv[1] = dv[1]\n",
    "dv[2] = dv[2][:].str[:3].astype(float)\n",
    "n0b = np.mean(dv[0])\n",
    "n1b = np.mean(dv[1])\n",
    "n2b = np.mean(dv[2])\n",
    "print(n0b,n1b,n2b)\n",
    "d = np.sqrt(((dv[0]-n0b)**2+(dv[1]-n1b)**2+(dv[2]-n2b)**2)/3)\n",
    "np.mean(d)"
   ]
  },
  {
   "cell_type": "code",
   "execution_count": 58,
   "id": "46d0d27c",
   "metadata": {},
   "outputs": [
    {
     "name": "stdout",
     "output_type": "stream",
     "text": [
      "0.21250000000000002 0.38750000000000007 0.5875\n"
     ]
    },
    {
     "name": "stderr",
     "output_type": "stream",
     "text": [
      "C:\\Users\\acer\\AppData\\Local\\Temp\\ipykernel_8376\\1241471780.py:6: ParserWarning: Falling back to the 'python' engine because the 'c' engine does not support regex separators (separators > 1 char and different from '\\s+' are interpreted as regex); you can avoid this warning by specifying engine='python'.\n",
      "  dv = pd.read_csv(\"bubble\",sep=\"\\,\",header = None)\n"
     ]
    },
    {
     "data": {
      "text/plain": [
       "0.160288812330858"
      ]
     },
     "execution_count": 58,
     "metadata": {},
     "output_type": "execute_result"
    }
   ],
   "source": [
    "df[\"l\"] = df[\"l\"].astype(int)\n",
    "df[\"l\"] = df[\"l\"].astype(str)\n",
    "df['l'] = df['l'].replace({'1' : '0.0,0.0,0.2','2' : '0.0,0.2,0.4','3' : '0.2,0.4,0.6','4' : '0.4,0.6,0.8','5' : '0.6,0.8,1.0'}, regex=True)\n",
    "\n",
    "df[\"l\"].to_csv(\"bubble\",index= None,header = None)\n",
    "dv = pd.read_csv(\"bubble\",sep=\"\\,\",header = None)\n",
    "dv[0] = dv[0][:].str[1:].astype(float)\n",
    "dv[1] = dv[1]\n",
    "dv[2] = dv[2][:].str[:3].astype(float)\n",
    "n0b = np.mean(dv[0])\n",
    "n1b = np.mean(dv[1])\n",
    "n2b = np.mean(dv[2])\n",
    "print(n0b,n1b,n2b)\n",
    "d = np.sqrt(((dv[0]-n0b)**2+(dv[1]-n1b)**2+(dv[2]-n2b)**2)/3)\n",
    "np.mean(d)"
   ]
  },
  {
   "cell_type": "code",
   "execution_count": 59,
   "id": "457e6a7a",
   "metadata": {},
   "outputs": [
    {
     "name": "stdout",
     "output_type": "stream",
     "text": [
      "0.3125 0.5 0.7\n"
     ]
    },
    {
     "name": "stderr",
     "output_type": "stream",
     "text": [
      "C:\\Users\\acer\\AppData\\Local\\Temp\\ipykernel_8376\\341135811.py:6: ParserWarning: Falling back to the 'python' engine because the 'c' engine does not support regex separators (separators > 1 char and different from '\\s+' are interpreted as regex); you can avoid this warning by specifying engine='python'.\n",
      "  dv = pd.read_csv(\"bubble\",sep=\"\\,\",header = None)\n"
     ]
    },
    {
     "data": {
      "text/plain": [
       "0.14549479538552024"
      ]
     },
     "execution_count": 59,
     "metadata": {},
     "output_type": "execute_result"
    }
   ],
   "source": [
    "df[\"m\"] = df[\"m\"].astype(int)\n",
    "df[\"m\"] = df[\"m\"].astype(str)\n",
    "df['m'] = df['m'].replace({'1' : '0.0,0.0,0.2','2' : '0.0,0.2,0.4','3' : '0.2,0.4,0.6','4' : '0.4,0.6,0.8','5' : '0.6,0.8,1.0'}, regex=True)\n",
    "\n",
    "df[\"m\"].to_csv(\"bubble\",index= None,header = None)\n",
    "dv = pd.read_csv(\"bubble\",sep=\"\\,\",header = None)\n",
    "dv[0] = dv[0][:].str[1:].astype(float)\n",
    "dv[1] = dv[1]\n",
    "dv[2] = dv[2][:].str[:3].astype(float)\n",
    "n0b = np.mean(dv[0])\n",
    "n1b = np.mean(dv[1])\n",
    "n2b = np.mean(dv[2])\n",
    "print(n0b,n1b,n2b)\n",
    "d = np.sqrt(((dv[0]-n0b)**2+(dv[1]-n1b)**2+(dv[2]-n2b)**2)/3)\n",
    "np.mean(d)"
   ]
  },
  {
   "cell_type": "code",
   "execution_count": 60,
   "id": "6123e567",
   "metadata": {},
   "outputs": [
    {
     "name": "stdout",
     "output_type": "stream",
     "text": [
      "0.26250000000000007 0.45 0.6499999999999999\n"
     ]
    },
    {
     "name": "stderr",
     "output_type": "stream",
     "text": [
      "C:\\Users\\acer\\AppData\\Local\\Temp\\ipykernel_8376\\29613680.py:6: ParserWarning: Falling back to the 'python' engine because the 'c' engine does not support regex separators (separators > 1 char and different from '\\s+' are interpreted as regex); you can avoid this warning by specifying engine='python'.\n",
      "  dv = pd.read_csv(\"bubble\",sep=\"\\,\",header = None)\n"
     ]
    },
    {
     "data": {
      "text/plain": [
       "0.14662328734832925"
      ]
     },
     "execution_count": 60,
     "metadata": {},
     "output_type": "execute_result"
    }
   ],
   "source": [
    "df[\"n\"] = df[\"n\"].astype(int)\n",
    "df[\"n\"] = df[\"n\"].astype(str)\n",
    "df['n'] = df['n'].replace({'1' : '0.0,0.0,0.2','2' : '0.0,0.2,0.4','3' : '0.2,0.4,0.6','4' : '0.4,0.6,0.8','5' : '0.6,0.8,1.0'}, regex=True)\n",
    "\n",
    "df[\"n\"].to_csv(\"bubble\",index= None,header = None)\n",
    "dv = pd.read_csv(\"bubble\",sep=\"\\,\",header = None)\n",
    "dv[0] = dv[0][:].str[1:].astype(float)\n",
    "dv[1] = dv[1]\n",
    "dv[2] = dv[2][:].str[:3].astype(float)\n",
    "n0b = np.mean(dv[0])\n",
    "n1b = np.mean(dv[1])\n",
    "n2b = np.mean(dv[2])\n",
    "print(n0b,n1b,n2b)\n",
    "d = np.sqrt(((dv[0]-n0b)**2+(dv[1]-n1b)**2+(dv[2]-n2b)**2)/3)\n",
    "np.mean(d)"
   ]
  },
  {
   "cell_type": "code",
   "execution_count": 61,
   "id": "56d16088",
   "metadata": {},
   "outputs": [
    {
     "name": "stdout",
     "output_type": "stream",
     "text": [
      "0.3375 0.525 0.725\n"
     ]
    },
    {
     "name": "stderr",
     "output_type": "stream",
     "text": [
      "C:\\Users\\acer\\AppData\\Local\\Temp\\ipykernel_8376\\2304928535.py:6: ParserWarning: Falling back to the 'python' engine because the 'c' engine does not support regex separators (separators > 1 char and different from '\\s+' are interpreted as regex); you can avoid this warning by specifying engine='python'.\n",
      "  dv = pd.read_csv(\"bubble\",sep=\"\\,\",header = None)\n"
     ]
    },
    {
     "data": {
      "text/plain": [
       "0.1480930976284904"
      ]
     },
     "execution_count": 61,
     "metadata": {},
     "output_type": "execute_result"
    }
   ],
   "source": [
    "df[\"o\"] = df[\"o\"].astype(int)\n",
    "df[\"o\"] = df[\"o\"].astype(str)\n",
    "df['o'] = df['o'].replace({'1' : '0.0,0.0,0.2','2' : '0.0,0.2,0.4','3' : '0.2,0.4,0.6','4' : '0.4,0.6,0.8','5' : '0.6,0.8,1.0'}, regex=True)\n",
    "\n",
    "df[\"o\"].to_csv(\"bubble\",index= None,header = None)\n",
    "dv = pd.read_csv(\"bubble\",sep=\"\\,\",header = None)\n",
    "dv[0] = dv[0][:].str[1:].astype(float)\n",
    "dv[1] = dv[1]\n",
    "dv[2] = dv[2][:].str[:3].astype(float)\n",
    "n0b = np.mean(dv[0])\n",
    "n1b = np.mean(dv[1])\n",
    "n2b = np.mean(dv[2])\n",
    "print(n0b,n1b,n2b)\n",
    "d = np.sqrt(((dv[0]-n0b)**2+(dv[1]-n1b)**2+(dv[2]-n2b)**2)/3)\n",
    "np.mean(d)"
   ]
  },
  {
   "cell_type": "code",
   "execution_count": 62,
   "id": "1f51ca8e",
   "metadata": {},
   "outputs": [
    {
     "name": "stdout",
     "output_type": "stream",
     "text": [
      "0.2625 0.4375 0.6375\n"
     ]
    },
    {
     "name": "stderr",
     "output_type": "stream",
     "text": [
      "C:\\Users\\acer\\AppData\\Local\\Temp\\ipykernel_8376\\3606935060.py:6: ParserWarning: Falling back to the 'python' engine because the 'c' engine does not support regex separators (separators > 1 char and different from '\\s+' are interpreted as regex); you can avoid this warning by specifying engine='python'.\n",
      "  dv = pd.read_csv(\"bubble\",sep=\"\\,\",header = None)\n"
     ]
    },
    {
     "data": {
      "text/plain": [
       "0.14841046340190825"
      ]
     },
     "execution_count": 62,
     "metadata": {},
     "output_type": "execute_result"
    }
   ],
   "source": [
    "df[\"p\"] = df[\"p\"].astype(int)\n",
    "df[\"p\"] = df[\"p\"].astype(str)\n",
    "df['p'] = df['p'].replace({'1' : '0.0,0.0,0.2','2' : '0.0,0.2,0.4','3' : '0.2,0.4,0.6','4' : '0.4,0.6,0.8','5' : '0.6,0.8,1.0'}, regex=True)\n",
    "\n",
    "df[\"p\"].to_csv(\"bubble\",index= None,header = None)\n",
    "dv = pd.read_csv(\"bubble\",sep=\"\\,\",header = None)\n",
    "dv[0] = dv[0][:].str[1:].astype(float)\n",
    "dv[1] = dv[1]\n",
    "dv[2] = dv[2][:].str[:3].astype(float)\n",
    "n0b = np.mean(dv[0])\n",
    "n1b = np.mean(dv[1])\n",
    "n2b = np.mean(dv[2])\n",
    "print(n0b,n1b,n2b)\n",
    "d = np.sqrt(((dv[0]-n0b)**2+(dv[1]-n1b)**2+(dv[2]-n2b)**2)/3)\n",
    "np.mean(d)"
   ]
  },
  {
   "cell_type": "code",
   "execution_count": 63,
   "id": "a8994635",
   "metadata": {},
   "outputs": [
    {
     "name": "stdout",
     "output_type": "stream",
     "text": [
      "0.3125 0.5125 0.7124999999999999\n"
     ]
    },
    {
     "name": "stderr",
     "output_type": "stream",
     "text": [
      "C:\\Users\\acer\\AppData\\Local\\Temp\\ipykernel_8376\\3746893353.py:6: ParserWarning: Falling back to the 'python' engine because the 'c' engine does not support regex separators (separators > 1 char and different from '\\s+' are interpreted as regex); you can avoid this warning by specifying engine='python'.\n",
      "  dv = pd.read_csv(\"bubble\",sep=\"\\,\",header = None)\n"
     ]
    },
    {
     "data": {
      "text/plain": [
       "0.1484375"
      ]
     },
     "execution_count": 63,
     "metadata": {},
     "output_type": "execute_result"
    }
   ],
   "source": [
    "df[\"q\"] = df[\"q\"].astype(int)\n",
    "df[\"q\"] = df[\"q\"].astype(str)\n",
    "df['q'] = df['q'].replace({'1' : '0.0,0.0,0.2','2' : '0.0,0.2,0.4','3' : '0.2,0.4,0.6','4' : '0.4,0.6,0.8','5' : '0.6,0.8,1.0'}, regex=True)\n",
    "\n",
    "df[\"q\"].to_csv(\"bubble\",index= None,header = None)\n",
    "dv = pd.read_csv(\"bubble\",sep=\"\\,\",header = None)\n",
    "dv[0] = dv[0][:].str[1:].astype(float)\n",
    "dv[1] = dv[1]\n",
    "dv[2] = dv[2][:].str[:3].astype(float)\n",
    "n0b = np.mean(dv[0])\n",
    "n1b = np.mean(dv[1])\n",
    "n2b = np.mean(dv[2])\n",
    "print(n0b,n1b,n2b)\n",
    "d = np.sqrt(((dv[0]-n0b)**2+(dv[1]-n1b)**2+(dv[2]-n2b)**2)/3)\n",
    "np.mean(d)"
   ]
  },
  {
   "cell_type": "code",
   "execution_count": 70,
   "id": "93d9af71",
   "metadata": {},
   "outputs": [
    {
     "name": "stdout",
     "output_type": "stream",
     "text": [
      "0.3375 0.5375 0.7375\n"
     ]
    },
    {
     "name": "stderr",
     "output_type": "stream",
     "text": [
      "C:\\Users\\acer\\AppData\\Local\\Temp\\ipykernel_8376\\3543274032.py:6: ParserWarning: Falling back to the 'python' engine because the 'c' engine does not support regex separators (separators > 1 char and different from '\\s+' are interpreted as regex); you can avoid this warning by specifying engine='python'.\n",
      "  dv = pd.read_csv(\"bubble\",sep=\"\\,\",header = None)\n"
     ]
    },
    {
     "data": {
      "text/plain": [
       "0.1109375"
      ]
     },
     "execution_count": 70,
     "metadata": {},
     "output_type": "execute_result"
    }
   ],
   "source": [
    "df[\"r\"] = df[\"r\"].astype(int)\n",
    "df[\"r\"] = df[\"r\"].astype(str)\n",
    "df['r'] = df['r'].replace({'1' : '0.0,0.0,0.2','2' : '0.0,0.2,0.4','3' : '0.2,0.4,0.6','4' : '0.4,0.6,0.8','5' : '0.6,0.8,1.0'}, regex=True)\n",
    "\n",
    "df[\"r\"].to_csv(\"bubble\",index= None,header = None)\n",
    "dv = pd.read_csv(\"bubble\",sep=\"\\,\",header = None)\n",
    "dv[0] = dv[0][:].str[1:].astype(float)\n",
    "dv[1] = dv[1]\n",
    "dv[2] = dv[2][:].str[:3].astype(float)\n",
    "n0b = np.mean(dv[0])\n",
    "n1b = np.mean(dv[1])\n",
    "n2b = np.mean(dv[2])\n",
    "print(n0b,n1b,n2b)\n",
    "d = np.sqrt(((dv[0]-n0b)**2+(dv[1]-n1b)**2+(dv[2]-n2b)**2)/3)\n",
    "np.mean(d)"
   ]
  },
  {
   "cell_type": "code",
   "execution_count": 64,
   "id": "3a23974c",
   "metadata": {},
   "outputs": [
    {
     "name": "stdout",
     "output_type": "stream",
     "text": [
      "0.38749999999999996 0.5750000000000001 0.775\n"
     ]
    },
    {
     "name": "stderr",
     "output_type": "stream",
     "text": [
      "C:\\Users\\acer\\AppData\\Local\\Temp\\ipykernel_8376\\875882934.py:6: ParserWarning: Falling back to the 'python' engine because the 'c' engine does not support regex separators (separators > 1 char and different from '\\s+' are interpreted as regex); you can avoid this warning by specifying engine='python'.\n",
      "  dv = pd.read_csv(\"bubble\",sep=\"\\,\",header = None)\n"
     ]
    },
    {
     "data": {
      "text/plain": [
       "0.19908325999062834"
      ]
     },
     "execution_count": 64,
     "metadata": {},
     "output_type": "execute_result"
    }
   ],
   "source": [
    "df[\"s\"] = df[\"s\"].astype(int)\n",
    "df[\"s\"] = df[\"s\"].astype(str)\n",
    "df['s'] = df['s'].replace({'1' : '0.0,0.0,0.2','2' : '0.0,0.2,0.4','3' : '0.2,0.4,0.6','4' : '0.4,0.6,0.8','5' : '0.6,0.8,1.0'}, regex=True)\n",
    "\n",
    "df[\"s\"].to_csv(\"bubble\",index= None,header = None)\n",
    "dv = pd.read_csv(\"bubble\",sep=\"\\,\",header = None)\n",
    "dv[0] = dv[0][:].str[1:].astype(float)\n",
    "dv[1] = dv[1]\n",
    "dv[2] = dv[2][:].str[:3].astype(float)\n",
    "n0b = np.mean(dv[0])\n",
    "n1b = np.mean(dv[1])\n",
    "n2b = np.mean(dv[2])\n",
    "print(n0b,n1b,n2b)\n",
    "d = np.sqrt(((dv[0]-n0b)**2+(dv[1]-n1b)**2+(dv[2]-n2b)**2)/3)\n",
    "np.mean(d)"
   ]
  },
  {
   "cell_type": "code",
   "execution_count": 65,
   "id": "6e56bd75",
   "metadata": {},
   "outputs": [
    {
     "name": "stdout",
     "output_type": "stream",
     "text": [
      "0.25 0.4375 0.6375000000000001\n"
     ]
    },
    {
     "name": "stderr",
     "output_type": "stream",
     "text": [
      "C:\\Users\\acer\\AppData\\Local\\Temp\\ipykernel_8376\\2205406956.py:6: ParserWarning: Falling back to the 'python' engine because the 'c' engine does not support regex separators (separators > 1 char and different from '\\s+' are interpreted as regex); you can avoid this warning by specifying engine='python'.\n",
      "  dv = pd.read_csv(\"bubble\",sep=\"\\,\",header = None)\n"
     ]
    },
    {
     "data": {
      "text/plain": [
       "0.1498434639268959"
      ]
     },
     "execution_count": 65,
     "metadata": {},
     "output_type": "execute_result"
    }
   ],
   "source": [
    "df[\"t\"] = df[\"t\"].astype(int)\n",
    "df[\"t\"] = df[\"t\"].astype(str)\n",
    "df['t'] = df['t'].replace({'1' : '0.0,0.0,0.2','2' : '0.0,0.2,0.4','3' : '0.2,0.4,0.6','4' : '0.4,0.6,0.8','5' : '0.6,0.8,1.0'}, regex=True)\n",
    "\n",
    "df[\"t\"].to_csv(\"bubble\",index= None,header = None)\n",
    "dv = pd.read_csv(\"bubble\",sep=\"\\,\",header = None)\n",
    "dv[0] = dv[0][:].str[1:].astype(float)\n",
    "dv[1] = dv[1]\n",
    "dv[2] = dv[2][:].str[:3].astype(float)\n",
    "n0b = np.mean(dv[0])\n",
    "n1b = np.mean(dv[1])\n",
    "n2b = np.mean(dv[2])\n",
    "print(n0b,n1b,n2b)\n",
    "d = np.sqrt(((dv[0]-n0b)**2+(dv[1]-n1b)**2+(dv[2]-n2b)**2)/3)\n",
    "np.mean(d)"
   ]
  },
  {
   "cell_type": "code",
   "execution_count": null,
   "id": "dd023e04",
   "metadata": {},
   "outputs": [],
   "source": []
  },
  {
   "cell_type": "code",
   "execution_count": 66,
   "id": "51dbc4f4",
   "metadata": {},
   "outputs": [
    {
     "name": "stdout",
     "output_type": "stream",
     "text": [
      "0.1625 0.3375 0.5375000000000001\n"
     ]
    },
    {
     "name": "stderr",
     "output_type": "stream",
     "text": [
      "C:\\Users\\acer\\AppData\\Local\\Temp\\ipykernel_8376\\1571478552.py:6: ParserWarning: Falling back to the 'python' engine because the 'c' engine does not support regex separators (separators > 1 char and different from '\\s+' are interpreted as regex); you can avoid this warning by specifying engine='python'.\n",
      "  dv = pd.read_csv(\"bubble\",sep=\"\\,\",header = None)\n"
     ]
    },
    {
     "data": {
      "text/plain": [
       "0.18121425826427184"
      ]
     },
     "execution_count": 66,
     "metadata": {},
     "output_type": "execute_result"
    }
   ],
   "source": [
    "df[\"u\"] = df[\"u\"].astype(int)\n",
    "df[\"u\"] = df[\"u\"].astype(str)\n",
    "df['u'] = df['u'].replace({'1' : '0.0,0.0,0.2','2' : '0.0,0.2,0.4','3' : '0.2,0.4,0.6','4' : '0.4,0.6,0.8','5' : '0.6,0.8,1.0'}, regex=True)\n",
    "\n",
    "df[\"u\"].to_csv(\"bubble\",index= None,header = None)\n",
    "dv = pd.read_csv(\"bubble\",sep=\"\\,\",header = None)\n",
    "dv[0] = dv[0][:].str[1:].astype(float)\n",
    "dv[1] = dv[1]\n",
    "dv[2] = dv[2][:].str[:3].astype(float)\n",
    "n0b = np.mean(dv[0])\n",
    "n1b = np.mean(dv[1])\n",
    "n2b = np.mean(dv[2])\n",
    "print(n0b,n1b,n2b)\n",
    "d = np.sqrt(((dv[0]-n0b)**2+(dv[1]-n1b)**2+(dv[2]-n2b)**2)/3)\n",
    "np.mean(d)"
   ]
  },
  {
   "cell_type": "code",
   "execution_count": 67,
   "id": "99b899db",
   "metadata": {},
   "outputs": [
    {
     "name": "stdout",
     "output_type": "stream",
     "text": [
      "0.2875 0.475 0.675\n"
     ]
    },
    {
     "name": "stderr",
     "output_type": "stream",
     "text": [
      "C:\\Users\\acer\\AppData\\Local\\Temp\\ipykernel_8376\\1636299848.py:6: ParserWarning: Falling back to the 'python' engine because the 'c' engine does not support regex separators (separators > 1 char and different from '\\s+' are interpreted as regex); you can avoid this warning by specifying engine='python'.\n",
      "  dv = pd.read_csv(\"bubble\",sep=\"\\,\",header = None)\n"
     ]
    },
    {
     "data": {
      "text/plain": [
       "0.18145032025712"
      ]
     },
     "execution_count": 67,
     "metadata": {},
     "output_type": "execute_result"
    }
   ],
   "source": [
    "df[\"v\"] = df[\"v\"].astype(int)\n",
    "df[\"v\"] = df[\"v\"].astype(str)\n",
    "df['v'] = df['v'].replace({'1' : '0.0,0.0,0.2','2' : '0.0,0.2,0.4','3' : '0.2,0.4,0.6','4' : '0.4,0.6,0.8','5' : '0.6,0.8,1.0'}, regex=True)\n",
    "\n",
    "df[\"v\"].to_csv(\"bubble\",index= None,header = None)\n",
    "dv = pd.read_csv(\"bubble\",sep=\"\\,\",header = None)\n",
    "dv[0] = dv[0][:].str[1:].astype(float)\n",
    "dv[1] = dv[1]\n",
    "dv[2] = dv[2][:].str[:3].astype(float)\n",
    "n0b = np.mean(dv[0])\n",
    "n1b = np.mean(dv[1])\n",
    "n2b = np.mean(dv[2])\n",
    "print(n0b,n1b,n2b)\n",
    "d = np.sqrt(((dv[0]-n0b)**2+(dv[1]-n1b)**2+(dv[2]-n2b)**2)/3)\n",
    "np.mean(d)"
   ]
  },
  {
   "cell_type": "code",
   "execution_count": 68,
   "id": "12f2bcb6",
   "metadata": {},
   "outputs": [
    {
     "name": "stdout",
     "output_type": "stream",
     "text": [
      "0.3375 0.5375 0.7375\n"
     ]
    },
    {
     "name": "stderr",
     "output_type": "stream",
     "text": [
      "C:\\Users\\acer\\AppData\\Local\\Temp\\ipykernel_8376\\2430939058.py:6: ParserWarning: Falling back to the 'python' engine because the 'c' engine does not support regex separators (separators > 1 char and different from '\\s+' are interpreted as regex); you can avoid this warning by specifying engine='python'.\n",
      "  dv = pd.read_csv(\"bubble\",sep=\"\\,\",header = None)\n"
     ]
    },
    {
     "data": {
      "text/plain": [
       "0.19531249999999997"
      ]
     },
     "execution_count": 68,
     "metadata": {},
     "output_type": "execute_result"
    }
   ],
   "source": [
    "df[\"x\"] = df[\"x\"].astype(int)\n",
    "df[\"x\"] = df[\"x\"].astype(str)\n",
    "df['x'] = df['x'].replace({'1' : '0.0,0.0,0.2','2' : '0.0,0.2,0.4','3' : '0.2,0.4,0.6','4' : '0.4,0.6,0.8','5' : '0.6,0.8,1.0'}, regex=True)\n",
    "\n",
    "df[\"x\"].to_csv(\"bubble\",index= None,header = None)\n",
    "dv = pd.read_csv(\"bubble\",sep=\"\\,\",header = None)\n",
    "dv[0] = dv[0][:].str[1:].astype(float)\n",
    "dv[1] = dv[1]\n",
    "dv[2] = dv[2][:].str[:3].astype(float)\n",
    "n0b = np.mean(dv[0])\n",
    "n1b = np.mean(dv[1])\n",
    "n2b = np.mean(dv[2])\n",
    "print(n0b,n1b,n2b)\n",
    "d = np.sqrt(((dv[0]-n0b)**2+(dv[1]-n1b)**2+(dv[2]-n2b)**2)/3)\n",
    "np.mean(d)"
   ]
  },
  {
   "cell_type": "code",
   "execution_count": 17,
   "id": "8818e857",
   "metadata": {},
   "outputs": [
    {
     "data": {
      "text/plain": [
       "0.7375"
      ]
     },
     "execution_count": 17,
     "metadata": {},
     "output_type": "execute_result"
    }
   ],
   "source": [
    "n2b"
   ]
  },
  {
   "cell_type": "code",
   "execution_count": 18,
   "id": "931e9696",
   "metadata": {},
   "outputs": [
    {
     "data": {
      "text/plain": [
       "0     0.2625\n",
       "1     0.2625\n",
       "2     0.2625\n",
       "3     0.0625\n",
       "4    -0.3375\n",
       "5    -0.1375\n",
       "6    -0.3375\n",
       "7     0.2625\n",
       "8     0.0625\n",
       "9    -0.3375\n",
       "10    0.0625\n",
       "11   -0.1375\n",
       "12   -0.1375\n",
       "13    0.0625\n",
       "14    0.2625\n",
       "15   -0.1375\n",
       "Name: 0, dtype: float64"
      ]
     },
     "execution_count": 18,
     "metadata": {},
     "output_type": "execute_result"
    }
   ],
   "source": [
    "(dv[0]-n0b)"
   ]
  },
  {
   "cell_type": "code",
   "execution_count": 69,
   "id": "7bbbd6ae",
   "metadata": {},
   "outputs": [
    {
     "name": "stdout",
     "output_type": "stream",
     "text": [
      "0.425 0.625 0.825\n"
     ]
    },
    {
     "name": "stderr",
     "output_type": "stream",
     "text": [
      "C:\\Users\\acer\\AppData\\Local\\Temp\\ipykernel_8376\\2803490461.py:6: ParserWarning: Falling back to the 'python' engine because the 'c' engine does not support regex separators (separators > 1 char and different from '\\s+' are interpreted as regex); you can avoid this warning by specifying engine='python'.\n",
      "  dv = pd.read_csv(\"bubble\",sep=\"\\,\",header = None)\n"
     ]
    },
    {
     "data": {
      "text/plain": [
       "0.13124999999999998"
      ]
     },
     "execution_count": 69,
     "metadata": {},
     "output_type": "execute_result"
    }
   ],
   "source": [
    "df[\"w\"] = df[\"w\"].astype(int)\n",
    "df[\"w\"] = df[\"w\"].astype(str)\n",
    "df['w'] = df['w'].replace({'1' : '0.0,0.0,0.2','2' : '0.0,0.2,0.4','3' : '0.2,0.4,0.6','4' : '0.4,0.6,0.8','5' : '0.6,0.8,1.0'}, regex=True)\n",
    "\n",
    "df[\"w\"].to_csv(\"bubble\",index= None,header = None)\n",
    "dv = pd.read_csv(\"bubble\",sep=\"\\,\",header = None)\n",
    "dv[0] = dv[0][:].str[1:].astype(float)\n",
    "dv[1] = dv[1]\n",
    "dv[2] = dv[2][:].str[:3].astype(float)\n",
    "n0b = np.mean(dv[0])\n",
    "n1b = np.mean(dv[1])\n",
    "n2b = np.mean(dv[2])\n",
    "print(n0b,n1b,n2b)\n",
    "d = np.sqrt(((dv[0]-n0b)**2+(dv[1]-n1b)**2+(dv[2]-n2b)**2)/3)\n",
    "np.mean(d)"
   ]
  },
  {
   "cell_type": "code",
   "execution_count": null,
   "id": "afc9a4ad",
   "metadata": {},
   "outputs": [],
   "source": []
  }
 ],
 "metadata": {
  "kernelspec": {
   "display_name": "Python 3 (ipykernel)",
   "language": "python",
   "name": "python3"
  },
  "language_info": {
   "codemirror_mode": {
    "name": "ipython",
    "version": 3
   },
   "file_extension": ".py",
   "mimetype": "text/x-python",
   "name": "python",
   "nbconvert_exporter": "python",
   "pygments_lexer": "ipython3",
   "version": "3.10.6"
  }
 },
 "nbformat": 4,
 "nbformat_minor": 5
}
